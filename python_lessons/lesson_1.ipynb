{
 "cells": [
  {
   "cell_type": "code",
   "execution_count": 1,
   "id": "a91333b6",
   "metadata": {},
   "outputs": [
    {
     "name": "stdout",
     "output_type": "stream",
     "text": [
      "hey everyone my name is david !\n",
      "my goal is to practice python to the best of my ability :)\n",
      "here is a message to future me. i know this seems hard right now but if I keep at it I will get better!\n",
      "here is a message for you binyamin. im going to make you proud!\n"
     ]
    }
   ],
   "source": [
    "# my first python file, im learning how to use variables.\n",
    "# a variable is like a label's box that stores something inside.\n",
    "\n",
    "name = \"david\"\n",
    "goal = \"practice python to the best of my ability\"\n",
    "\n",
    "# printing out a message using the above variable.\n",
    "\n",
    "print(\"hey everyone my name is\", name, \"!\")\n",
    "print(\"my goal is to\", goal, \":)\")\n",
    "\n",
    "# here is a motivational message for myself.\n",
    "\n",
    "message = \"i know this seems hard right now but if I keep at it I will get better!\"\n",
    "print(\"here is a message to future me.\", message,)\n",
    "\n",
    "#message for teach\n",
    "\n",
    "message = \"im going to make you proud!\"\n",
    "print(\"here is a message for you binyamin.\",message,)\n"
   ]
  },
  {
   "cell_type": "code",
   "execution_count": 2,
   "id": "4ee05fee",
   "metadata": {},
   "outputs": [
    {
     "name": "stdout",
     "output_type": "stream",
     "text": [
      "this is a test to see if I can push to git hub this is to test git hub\n"
     ]
    }
   ],
   "source": [
    "message = \"this is to test git hub\"\n",
    "print(\"this is a test to see if I can push to git hub\", message)\n"
   ]
  },
  {
   "cell_type": "code",
   "execution_count": 3,
   "id": "a209cab2",
   "metadata": {},
   "outputs": [
    {
     "name": "stdout",
     "output_type": "stream",
     "text": [
      "this is a test to see if I can push to git hub this is to test git hub\n"
     ]
    }
   ],
   "source": [
    "message = \"this is to test git hub\"\n",
    "print(\"this is a test to see if I can push to git hub\", message)"
   ]
  },
  {
   "cell_type": "code",
   "execution_count": 5,
   "id": "43c2af87",
   "metadata": {},
   "outputs": [
    {
     "name": "stdout",
     "output_type": "stream",
     "text": [
      "one final one to test git hub\n"
     ]
    }
   ],
   "source": [
    "message = \"one final one to test git hub\"\n",
    "print(message)"
   ]
  },
  {
   "cell_type": "markdown",
   "id": "efb704ef",
   "metadata": {},
   "source": [
    "# Variable Practice Strings 🧐"
   ]
  },
  {
   "cell_type": "code",
   "execution_count": null,
   "id": "1c24d4d4",
   "metadata": {},
   "outputs": [
    {
     "name": "stdout",
     "output_type": "stream",
     "text": [
      "the names of my kids are benjy and ella and they are the best kids in the world!\n"
     ]
    }
   ],
   "source": [
    "\n",
    "kids = \"benjy and ella\"\n",
    "print(\"the names of my kids are\", kids, \"and they are the best kids in the world!\")"
   ]
  },
  {
   "cell_type": "code",
   "execution_count": 26,
   "id": "9cdadc46",
   "metadata": {},
   "outputs": [
    {
     "name": "stdout",
     "output_type": "stream",
     "text": [
      "hi there! my name is david, I work at questrade, I love working out and my wife's name is tehila.\n"
     ]
    }
   ],
   "source": [
    "hobby = \"working out\"\n",
    "wife = \"tehila\"\n",
    "work = \"questrade\"\n",
    "print(f\"hi there! my name is {name}, I work at {work}, I love {hobby} and my wife's name is {wife}.\")"
   ]
  }
 ],
 "metadata": {
  "kernelspec": {
   "display_name": "Python 3",
   "language": "python",
   "name": "python3"
  },
  "language_info": {
   "codemirror_mode": {
    "name": "ipython",
    "version": 3
   },
   "file_extension": ".py",
   "mimetype": "text/x-python",
   "name": "python",
   "nbconvert_exporter": "python",
   "pygments_lexer": "ipython3",
   "version": "3.11.9"
  }
 },
 "nbformat": 4,
 "nbformat_minor": 5
}
