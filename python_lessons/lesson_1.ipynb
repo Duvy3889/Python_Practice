{
 "cells": [
  {
   "cell_type": "code",
   "execution_count": 1,
   "id": "a91333b6",
   "metadata": {},
   "outputs": [
    {
     "name": "stdout",
     "output_type": "stream",
     "text": [
      "hey everyone my name is david !\n",
      "my goal is to practice python to the best of my ability :)\n",
      "here is a message to future me. i know this seems hard right now but if I keep at it I will get better!\n",
      "here is a message for you binyamin. im going to make you proud!\n"
     ]
    }
   ],
   "source": [
    "# my first python file, im learning how to use variables.\n",
    "# a variable is like a label's box that stores something inside.\n",
    "\n",
    "name = \"david\"\n",
    "goal = \"practice python to the best of my ability\"\n",
    "\n",
    "# printing out a message using the above variable.\n",
    "\n",
    "print(\"hey everyone my name is\", name, \"!\")\n",
    "print(\"my goal is to\", goal, \":)\")\n",
    "\n",
    "# here is a motivational message for myself.\n",
    "\n",
    "message = \"i know this seems hard right now but if I keep at it I will get better!\"\n",
    "print(\"here is a message to future me.\", message,)\n",
    "\n",
    "#message for teach\n",
    "\n",
    "message = \"im going to make you proud!\"\n",
    "print(\"here is a message for you binyamin.\",message,)\n"
   ]
  },
  {
   "cell_type": "code",
   "execution_count": 2,
   "id": "4ee05fee",
   "metadata": {},
   "outputs": [
    {
     "name": "stdout",
     "output_type": "stream",
     "text": [
      "this is a test to see if I can push to git hub this is to test git hub\n"
     ]
    }
   ],
   "source": [
    "message = \"this is to test git hub\"\n",
    "print(\"this is a test to see if I can push to git hub\", message)\n"
   ]
  },
  {
   "cell_type": "code",
   "execution_count": 3,
   "id": "a209cab2",
   "metadata": {},
   "outputs": [
    {
     "name": "stdout",
     "output_type": "stream",
     "text": [
      "this is a test to see if I can push to git hub this is to test git hub\n"
     ]
    }
   ],
   "source": [
    "message = \"this is to test git hub\"\n",
    "print(\"this is a test to see if I can push to git hub\", message)"
   ]
  },
  {
   "cell_type": "code",
   "execution_count": 5,
   "id": "43c2af87",
   "metadata": {},
   "outputs": [
    {
     "name": "stdout",
     "output_type": "stream",
     "text": [
      "one final one to test git hub\n"
     ]
    }
   ],
   "source": [
    "message = \"one final one to test git hub\"\n",
    "print(message)"
   ]
  },
  {
   "cell_type": "markdown",
   "id": "efb704ef",
   "metadata": {},
   "source": [
    "# Variable Practice Strings 🧐"
   ]
  },
  {
   "cell_type": "code",
   "execution_count": null,
   "id": "1c24d4d4",
   "metadata": {},
   "outputs": [
    {
     "name": "stdout",
     "output_type": "stream",
     "text": [
      "the names of my kids are benjy and ella and they are the best kids in the world!\n"
     ]
    }
   ],
   "source": [
    "\n",
    "kids = \"benjy and ella\"\n",
    "print(\"the names of my kids are\", kids, \"and they are the best kids in the world!\")"
   ]
  },
  {
   "cell_type": "code",
   "execution_count": 26,
   "id": "9cdadc46",
   "metadata": {},
   "outputs": [
    {
     "name": "stdout",
     "output_type": "stream",
     "text": [
      "hi there! my name is david, I work at questrade, I love working out and my wife's name is tehila.\n"
     ]
    }
   ],
   "source": [
    "hobby = \"working out\"\n",
    "wife = \"tehila\"\n",
    "work = \"questrade\"\n",
    "print(f\"hi there! my name is {name}, I work at {work}, I love {hobby} and my wife's name is {wife}.\")"
   ]
  },
  {
   "cell_type": "code",
   "execution_count": null,
   "id": "eb3767f8",
   "metadata": {},
   "outputs": [
    {
     "name": "stdout",
     "output_type": "stream",
     "text": [
      "hi there! my name is Duvy, my favorite show is one pieceand my favourite season is fall becuase I love the cool weather\n"
     ]
    }
   ],
   "source": [
    "name = \"Duvy\"\n",
    "show = \"one piece\"\n",
    "season = \"fall\"\n",
    "print(f\"hi there! my name is {name}, my favorite show is {show} and my favourite season is {season} becuase I love the cool weather\")"
   ]
  },
  {
   "cell_type": "code",
   "execution_count": 88,
   "id": "63f88b9a",
   "metadata": {},
   "outputs": [
    {
     "name": "stdout",
     "output_type": "stream",
     "text": [
      "hello tehila\n"
     ]
    }
   ],
   "source": [
    "wife = input(\"what is your wife's name? \")\n",
    "print (\"hello\",wife)"
   ]
  },
  {
   "cell_type": "code",
   "execution_count": 89,
   "id": "97efd4ed",
   "metadata": {},
   "outputs": [
    {
     "name": "stdout",
     "output_type": "stream",
     "text": [
      "hello Mo\n"
     ]
    }
   ],
   "source": [
    "best_friend = input(\"what is your best friend's name? \")\n",
    "print(\"hello\", best_friend)"
   ]
  },
  {
   "cell_type": "code",
   "execution_count": null,
   "id": "ec6cf10c",
   "metadata": {},
   "outputs": [
    {
     "name": "stdout",
     "output_type": "stream",
     "text": [
      "thank you for calling\n"
     ]
    }
   ],
   "source": [
    "Bot = input(\"do you have any additional questions?\")\n",
    "if Bot == \"no\":\n",
    "    print(\"thank you for calling\")\n"
   ]
  },
  {
   "cell_type": "code",
   "execution_count": 99,
   "id": "4a1635d9",
   "metadata": {},
   "outputs": [
    {
     "name": "stdout",
     "output_type": "stream",
     "text": [
      "amazing! you are a coffee expert!\n"
     ]
    }
   ],
   "source": [
    "bot = input(\"did you make sure to heat the water before puring it over the coffee grounds? \")\n",
    "if bot == \"yes\":\n",
    "    print(\"amazing! you are a coffee expert!\")\n",
    "elif bot == \"no\":\n",
    "    print(\"you should try it next time, it makes a big difference!\")"
   ]
  },
  {
   "cell_type": "code",
   "execution_count": null,
   "id": "a22fd508",
   "metadata": {},
   "outputs": [
    {
     "name": "stdout",
     "output_type": "stream",
     "text": [
      "hi there! my nae is Duvy, I am 35 years old and I try to workout every day to stay healthy and fit.\n"
     ]
    }
   ],
   "source": [
    "name = \"Duvy\"\n",
    "age = 35\n",
    "print(f\"hi there! my name is {name}, I am {age} years old and I try to workout every day to stay healthy and fit.\")\n"
   ]
  },
  {
   "cell_type": "code",
   "execution_count": 104,
   "id": "6c8eaaa4",
   "metadata": {},
   "outputs": [
    {
     "name": "stdout",
     "output_type": "stream",
     "text": [
      "hi there! my name is david, I am 35years old.\n"
     ]
    }
   ],
   "source": [
    "name = input (\"what is your name?\")\n",
    "age = input (\"how old are you?\")\n",
    "print(f\"hi there! my name is {name}, I am {age}years old.\")"
   ]
  },
  {
   "cell_type": "markdown",
   "id": "7be6350d",
   "metadata": {},
   "source": [
    "# Booleans (True or False)"
   ]
  },
  {
   "cell_type": "code",
   "execution_count": 34,
   "id": "a54ae09b",
   "metadata": {},
   "outputs": [
    {
     "name": "stdout",
     "output_type": "stream",
     "text": [
      "is python hard? true\n",
      "Am I learning Python? True\n"
     ]
    }
   ],
   "source": [
    "python_is_hard = \"true\"\n",
    "print(\"is python hard?\", python_is_hard)\n",
    "\n",
    "is_learning_python = True\n",
    "print(\"Am I learning Python?\", is_learning_python)\n",
    "\n"
   ]
  },
  {
   "cell_type": "code",
   "execution_count": 49,
   "id": "323cab6e",
   "metadata": {},
   "outputs": [
    {
     "name": "stdout",
     "output_type": "stream",
     "text": [
      "I live in toronto\n",
      "my pets name is harry\n",
      "do I have kiddos? True\n",
      "I am taking 1 course this year.\n"
     ]
    }
   ],
   "source": [
    "your_city = \"toronto\"\n",
    "pet_name = \"harry\"\n",
    "has_kids = \"True\"    # Use True or False\n",
    "number_of_courses =  1 # A number\n",
    "\n",
    "print(\"I live in\", your_city)\n",
    "print(\"my pets name is\", pet_name)\n",
    "print(\"do I have kiddos?\", has_kids)\n",
    "print(\"I am taking\", number_of_courses, \"course this year.\")"
   ]
  },
  {
   "cell_type": "code",
   "execution_count": 56,
   "id": "bbfb3ae6",
   "metadata": {},
   "outputs": [
    {
     "name": "stdout",
     "output_type": "stream",
     "text": [
      "True\n",
      "False\n",
      "True\n",
      "False\n"
     ]
    }
   ],
   "source": [
    "age = 35\n",
    "\n",
    "print(age > 18)\n",
    "print (age == 34)\n",
    "print (age < 99)\n",
    "print (age != 35)"
   ]
  },
  {
   "cell_type": "code",
   "execution_count": 107,
   "id": "abf9c279",
   "metadata": {},
   "outputs": [
    {
     "name": "stdout",
     "output_type": "stream",
     "text": [
      "False\n",
      "True\n",
      "True\n",
      "False\n"
     ]
    }
   ],
   "source": [
    "has_kids = True\n",
    "has_a_puppy = False\n",
    "\n",
    "print(has_kids and has_a_puppy)\n",
    "\n",
    "print(has_kids or has_a_puppy)\n",
    "print(not has_a_puppy)\n",
    "print(not has_kids and not has_a_puppy)"
   ]
  }
 ],
 "metadata": {
  "kernelspec": {
   "display_name": "Python 3",
   "language": "python",
   "name": "python3"
  },
  "language_info": {
   "codemirror_mode": {
    "name": "ipython",
    "version": 3
   },
   "file_extension": ".py",
   "mimetype": "text/x-python",
   "name": "python",
   "nbconvert_exporter": "python",
   "pygments_lexer": "ipython3",
   "version": "3.11.9"
  }
 },
 "nbformat": 4,
 "nbformat_minor": 5
}
