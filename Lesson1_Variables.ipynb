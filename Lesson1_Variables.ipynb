{
 "cells": [
  {
   "cell_type": "code",
   "execution_count": 25,
   "id": "005cd719",
   "metadata": {},
   "outputs": [
    {
     "name": "stdout",
     "output_type": "stream",
     "text": [
      "hey everyone my name is david !\n",
      "my goal is to practice python to the best of my ability :)\n",
      "here is a message to future me. i know this seems hard right now but if I keep at it I will get better!\n",
      "here is a message for you binyamin. im going to make you proud!\n"
     ]
    }
   ],
   "source": [
    "# my first python file, im learning how to use variables.\n",
    "# a variable is like a label's box that stores something inside.\n",
    "\n",
    "name = \"david\"\n",
    "goal = \"practice python to the best of my ability\"\n",
    "\n",
    "# printing out a message using the above variable.\n",
    "\n",
    "print(\"hey everyone my name is\", name, \"!\")\n",
    "print(\"my goal is to\", goal, \":)\")\n",
    "\n",
    "# here is a motivational message for myself.\n",
    "\n",
    "message = \"i know this seems hard right now but if I keep at it I will get better!\"\n",
    "print(\"here is a message to future me.\", message,)\n",
    "\n",
    "#message for teach\n",
    "\n",
    "message = \"im going to make you proud!\"\n",
    "print(\"here is a message for you binyamin.\",message,)"
   ]
  }
 ],
 "metadata": {
  "kernelspec": {
   "display_name": "Python 3",
   "language": "python",
   "name": "python3"
  },
  "language_info": {
   "codemirror_mode": {
    "name": "ipython",
    "version": 3
   },
   "file_extension": ".py",
   "mimetype": "text/x-python",
   "name": "python",
   "nbconvert_exporter": "python",
   "pygments_lexer": "ipython3",
   "version": "3.11.9"
  }
 },
 "nbformat": 4,
 "nbformat_minor": 5
}
